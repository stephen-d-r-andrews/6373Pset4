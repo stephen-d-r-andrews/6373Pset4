{
 "cells": [
  {
   "cell_type": "code",
   "execution_count": 69,
   "metadata": {},
   "outputs": [],
   "source": [
    "import numpy as np\n",
    "import matplotlib.pyplot as plt\n",
    "import pandas as pd\n",
    "import networkx as nx\n",
    "import scipy\n",
    "\n",
    "from itertools import combinations"
   ]
  },
  {
   "cell_type": "markdown",
   "metadata": {},
   "source": [
    "# Question 4.1"
   ]
  },
  {
   "cell_type": "code",
   "execution_count": 70,
   "metadata": {},
   "outputs": [
    {
     "name": "stdout",
     "output_type": "stream",
     "text": [
      "         NoUnique            Name  Naissance SEXE     SeqE   dateInf   NCD1  \\\n",
      "0               1        Tatielly       1007    F  1085034  20051217   3530   \n",
      "1               2       Oluwasayo       1828    F  1431379  20080423   1430   \n",
      "2               4    ناصرعلي محمد       1889    M   167174  20080306   1430   \n",
      "3               5              炜杰       1892    M  1179096  20080821   1420   \n",
      "4              17           Avare       1897    M  1270690  20030430   1625   \n",
      "...           ...             ...        ...  ...      ...       ...    ...   \n",
      "1280454    670532         Liriane       2004    F  1112491  20090326   1330   \n",
      "1280455    670533        Benzacky       2004    M    78081  20090629  21702   \n",
      "1280456    670534      Piscitelli       2005    M   187904  20090316  21201   \n",
      "1280457    670535  Alvaro Ramirez       2005    M   523837  20091018  21704   \n",
      "1280458    670536            Kbir       2005    M  1632652  20081124  21101   \n",
      "\n",
      "          NCD2 NCD3 NCD4    MUN ED1  Jeunes  Adultes        Date  annee  \n",
      "0                         58227   2       0        1  12/17/2005   2005  \n",
      "1                         94068   5       0        1  04/23/2008   2008  \n",
      "2        21702            49058   2       0        1  03/06/2008   2008  \n",
      "3                         65005  71       0        1  08/21/2008   2008  \n",
      "4                         23027           0        3  04/30/2003   2003  \n",
      "...        ...  ...  ...    ...  ..     ...      ...         ...    ...  \n",
      "1280454                   58227  34       0        1  03/26/2009   2009  \n",
      "1280455                   46075  10       0        4  06/29/2009   2009  \n",
      "1280456  21702            31015   1       0        4  03/16/2009   2009  \n",
      "1280457                   98806   1       0        1  10/18/2009   2009  \n",
      "1280458                   97802   1       0        2  11/24/2008   2008  \n",
      "\n",
      "[1280459 rows x 16 columns]\n"
     ]
    }
   ],
   "source": [
    "data = pd.read_csv(\"/Users/stephenandrews/Downloads/MIT Schoolwork/Spring 2025/6.3732/6373Pset4/data/Cooffending_data.csv\")\n",
    "\n",
    "nparr = data.to_numpy()\n",
    "\n",
    "print(data)"
   ]
  },
  {
   "cell_type": "markdown",
   "metadata": {},
   "source": [
    "#### Part (a)"
   ]
  },
  {
   "cell_type": "code",
   "execution_count": 71,
   "metadata": {},
   "outputs": [
    {
     "data": {
      "text/plain": [
       "539593"
      ]
     },
     "execution_count": 71,
     "metadata": {},
     "output_type": "execute_result"
    }
   ],
   "source": [
    "len(np.unique(nparr[:, 0]))"
   ]
  },
  {
   "cell_type": "markdown",
   "metadata": {},
   "source": [
    "#### Part (b)"
   ]
  },
  {
   "cell_type": "code",
   "execution_count": 72,
   "metadata": {},
   "outputs": [
    {
     "data": {
      "text/plain": [
       "539593"
      ]
     },
     "execution_count": 72,
     "metadata": {},
     "output_type": "execute_result"
    }
   ],
   "source": [
    "len(np.unique(nparr[:, 1]))"
   ]
  },
  {
   "cell_type": "markdown",
   "metadata": {},
   "source": [
    "#### Part (c)"
   ]
  },
  {
   "cell_type": "code",
   "execution_count": 73,
   "metadata": {},
   "outputs": [
    {
     "name": "stdout",
     "output_type": "stream",
     "text": [
      "All years: 1164836\n",
      "2003: 110556\n",
      "2004: 121374\n",
      "2005: 172664\n",
      "2006: 185840\n",
      "2007: 196151\n",
      "2008: 199288\n",
      "2009: 178959\n",
      "2010: 4\n"
     ]
    }
   ],
   "source": [
    "print(f\"All years: {len(np.unique(nparr[:, 4]))}\")\n",
    "\n",
    "years = [2003, 2004, 2005, 2006, 2007, 2008, 2009, 2010]\n",
    "\n",
    "for year in years:\n",
    "    arr = np.where(nparr[:, -1] == year)\n",
    "    # print(nparr[arr][:, 4])\n",
    "    num = len(np.unique(nparr[arr][:, 4]))\n",
    "    print(f\"{year}: {num}\")\n"
   ]
  },
  {
   "cell_type": "markdown",
   "metadata": {},
   "source": [
    "#### part (d)"
   ]
  },
  {
   "cell_type": "code",
   "execution_count": 74,
   "metadata": {},
   "outputs": [],
   "source": [
    "unique_crimes = np.unique(nparr[:, 4])\n",
    "\n",
    "unique_vals, counts = np.unique(nparr[:, 4], return_counts=True)\n",
    "\n",
    "sorted_indices = np.argsort(-counts)\n",
    "\n",
    "sorted_unique_vals = unique_vals[sorted_indices]\n",
    "sorted_counts = counts[sorted_indices]\n",
    "\n",
    "result = np.column_stack((sorted_unique_vals, sorted_counts))"
   ]
  },
  {
   "cell_type": "code",
   "execution_count": 75,
   "metadata": {},
   "outputs": [
    {
     "name": "stdout",
     "output_type": "stream",
     "text": [
      "[[27849 156 66023.0]\n",
      " [876159 102 12072.0]\n",
      " [445040 77 66023.0]\n",
      " [23526 60 75017.0]\n",
      " [60815 60 54048.0]\n",
      " [212285 57 37067.0]\n",
      " [754187 56 95032.0]\n",
      " [539385 52 66023.0]\n",
      " [23610 51 78005.0]\n",
      " [453024 46 66023.0]]\n"
     ]
    }
   ],
   "source": [
    "muns = np.zeros((10, 1))\n",
    "\n",
    "count = 0\n",
    "\n",
    "for i in result[:10]:\n",
    "    idx = np.where(nparr[:, 4] == i[0])[0][0]\n",
    "\n",
    "    muns[count] = nparr[idx][10]\n",
    "    count += 1\n",
    "\n",
    "print(np.column_stack((sorted_unique_vals[:10], sorted_counts[:10], muns)))"
   ]
  },
  {
   "cell_type": "markdown",
   "metadata": {},
   "source": [
    "#### part (e)"
   ]
  },
  {
   "cell_type": "code",
   "execution_count": 76,
   "metadata": {},
   "outputs": [],
   "source": [
    "data['SeqE'] = pd.to_numeric(data['SeqE'], errors='coerce')\n",
    "data['NoUnique'] = pd.to_numeric(data['NoUnique'], errors='coerce')\n",
    "\n",
    "# Drop rows with missing SeqE or NsoUnique\n",
    "# data = data.dropna(subset=['SeqE', 'NoUnique'])\n",
    "\n",
    "# Initialize undirected graph\n",
    "G = nx.Graph()\n",
    "\n",
    "# Group by SeqE (each event)\n",
    "for _, group in data.groupby('SeqE'):\n",
    "    participants = group['NoUnique'].unique()\n",
    "    if len(participants) > 1:\n",
    "        for u, v in combinations(participants, 2):\n",
    "            if G.has_edge(u, v):\n",
    "                G[u][v]['weight'] += 1\n",
    "            else:\n",
    "                G.add_edge(u, v, weight=1)\n",
    "\n",
    "# Optional: Add isolated nodes (people with no co-offenders)\n",
    "# for person in data['NoUnique'].unique():\n",
    "#     if person not in G:\n",
    "#         G.add_node(person)\n"
   ]
  },
  {
   "cell_type": "code",
   "execution_count": 79,
   "metadata": {},
   "outputs": [
    {
     "name": "stdout",
     "output_type": "stream",
     "text": [
      "Number of nodes: 121159\n",
      "Number of solo offenders: 418434\n",
      "Number of edges: 178413\n"
     ]
    }
   ],
   "source": [
    "print(f\"Number of nodes: {G.number_of_nodes()}\")\n",
    "\n",
    "print(f\"Number of solo offenders: {539593-121159}\")\n",
    "\n",
    "print(f\"Number of edges: {G.number_of_edges()}\")"
   ]
  },
  {
   "cell_type": "markdown",
   "metadata": {},
   "source": [
    "### part (f)"
   ]
  },
  {
   "cell_type": "code",
   "execution_count": 88,
   "metadata": {},
   "outputs": [
    {
     "data": {
      "image/png": "[encoded data removed]",
      "text/plain": [
       "<Figure size 800x600 with 1 Axes>"
      ]
     },
     "metadata": {},
     "output_type": "display_data"
    }
   ],
   "source": [
    "degree_sequence = [degree for node, degree in G.degree()]\n",
    "\n",
    "# Plot the degree distribution as a histogram\n",
    "plt.figure(figsize=(8, 6))\n",
    "# Setting the bins to cover the full range of degrees; +2 ensures the last bin is included\n",
    "plt.hist(degree_sequence, bins=range(min(degree_sequence), max(degree_sequence) + 2), \n",
    "         align='left', edgecolor='black')\n",
    "plt.xlabel(\"Degree\")\n",
    "plt.ylabel(\"Number of Nodes\")\n",
    "plt.title(\"Degree Distribution of the Co-offender Graph\")\n",
    "plt.xscale('log')\n",
    "plt.savefig('deg_dist1')\n",
    "plt.show()"
   ]
  },
  {
   "cell_type": "markdown",
   "metadata": {},
   "source": [
    "#### part (g)"
   ]
  },
  {
   "cell_type": "code",
   "execution_count": 81,
   "metadata": {},
   "outputs": [
    {
     "name": "stdout",
     "output_type": "stream",
     "text": [
      "36098\n"
     ]
    }
   ],
   "source": [
    "print(nx.number_connected_components(G))"
   ]
  },
  {
   "cell_type": "markdown",
   "metadata": {},
   "source": [
    "#### part (h)"
   ]
  },
  {
   "cell_type": "code",
   "execution_count": 85,
   "metadata": {},
   "outputs": [
    {
     "name": "stdout",
     "output_type": "stream",
     "text": [
      "19924\n"
     ]
    }
   ],
   "source": [
    "largest_cc = max(nx.connected_components(G), key=len)\n",
    "\n",
    "print(len(largest_cc))\n"
   ]
  },
  {
   "cell_type": "markdown",
   "metadata": {},
   "source": [
    "#### part(i)"
   ]
  },
  {
   "cell_type": "code",
   "execution_count": null,
   "metadata": {},
   "outputs": [
    {
     "name": "stdout",
     "output_type": "stream",
     "text": [
      "Number of nodes in the largest connected component: 19924\n"
     ]
    },
    {
     "data": {
      "image/png": "[encoded data removed]",
      "text/plain": [
       "<Figure size 800x600 with 1 Axes>"
      ]
     },
     "metadata": {},
     "output_type": "display_data"
    }
   ],
   "source": [
    "G_largest = G.subgraph(largest_cc)\n",
    "\n",
    "# Compute the degree for each node in the largest connected component\n",
    "degree_sequence = [deg for _, deg in G_largest.degree()]\n",
    "\n",
    "# Print basic info about the largest component\n",
    "print(\"Number of nodes in the largest connected component:\", len(G_largest.nodes()))\n",
    "\n",
    "# Plot the degree distribution as a histogram\n",
    "plt.figure(figsize=(8, 6))\n",
    "# Define bins from the minimum to maximum degree, plus one to include the max value\n",
    "bins = range(min(degree_sequence), max(degree_sequence) + 2)\n",
    "plt.hist(degree_sequence, bins=bins, align='left', edgecolor='black')\n",
    "plt.xlabel(\"Degree\")\n",
    "plt.ylabel(\"Number of Nodes\")\n",
    "plt.title(\"Degree Distribution for the Largest Connected Component\")\n",
    "plt.xscale('log')\n",
    "plt.savefig('deg_dist2')\n",
    "plt.show()\n"
   ]
  }
 ],
 "metadata": {
  "kernelspec": {
   "display_name": "6373pset4",
   "language": "python",
   "name": "python3"
  },
  "language_info": {
   "codemirror_mode": {
    "name": "ipython",
    "version": 3
   },
   "file_extension": ".py",
   "mimetype": "text/x-python",
   "name": "python",
   "nbconvert_exporter": "python",
   "pygments_lexer": "ipython3",
   "version": "3.12.9"
  }
 },
 "nbformat": 4,
 "nbformat_minor": 2
}
