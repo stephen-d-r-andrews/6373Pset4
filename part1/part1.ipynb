{
 "cells": [
  {
   "cell_type": "code",
   "execution_count": 2,
   "metadata": {},
   "outputs": [],
   "source": [
    "import numpy as np\n",
    "import matplotlib.pyplot as plt\n",
    "import pandas as pd"
   ]
  },
  {
   "cell_type": "markdown",
   "metadata": {},
   "source": [
    "# Question 4.1"
   ]
  },
  {
   "cell_type": "code",
   "execution_count": 3,
   "metadata": {},
   "outputs": [
    {
     "name": "stdout",
     "output_type": "stream",
     "text": [
      "         NoUnique            Name  Naissance SEXE     SeqE   dateInf   NCD1  \\\n",
      "0               1        Tatielly       1007    F  1085034  20051217   3530   \n",
      "1               2       Oluwasayo       1828    F  1431379  20080423   1430   \n",
      "2               4    ناصرعلي محمد       1889    M   167174  20080306   1430   \n",
      "3               5              炜杰       1892    M  1179096  20080821   1420   \n",
      "4              17           Avare       1897    M  1270690  20030430   1625   \n",
      "...           ...             ...        ...  ...      ...       ...    ...   \n",
      "1280454    670532         Liriane       2004    F  1112491  20090326   1330   \n",
      "1280455    670533        Benzacky       2004    M    78081  20090629  21702   \n",
      "1280456    670534      Piscitelli       2005    M   187904  20090316  21201   \n",
      "1280457    670535  Alvaro Ramirez       2005    M   523837  20091018  21704   \n",
      "1280458    670536            Kbir       2005    M  1632652  20081124  21101   \n",
      "\n",
      "          NCD2 NCD3 NCD4    MUN ED1  Jeunes  Adultes        Date  annee  \n",
      "0                         58227   2       0        1  12/17/2005   2005  \n",
      "1                         94068   5       0        1  04/23/2008   2008  \n",
      "2        21702            49058   2       0        1  03/06/2008   2008  \n",
      "3                         65005  71       0        1  08/21/2008   2008  \n",
      "4                         23027           0        3  04/30/2003   2003  \n",
      "...        ...  ...  ...    ...  ..     ...      ...         ...    ...  \n",
      "1280454                   58227  34       0        1  03/26/2009   2009  \n",
      "1280455                   46075  10       0        4  06/29/2009   2009  \n",
      "1280456  21702            31015   1       0        4  03/16/2009   2009  \n",
      "1280457                   98806   1       0        1  10/18/2009   2009  \n",
      "1280458                   97802   1       0        2  11/24/2008   2008  \n",
      "\n",
      "[1280459 rows x 16 columns]\n"
     ]
    }
   ],
   "source": [
    "data = pd.read_csv(\"/Users/stephenandrews/Downloads/MIT Schoolwork/Spring 2025/6.3732/6373Pset4/data/Cooffending_data.csv\")\n",
    "\n",
    "nparr = data.to_numpy()\n",
    "\n",
    "print(data)"
   ]
  },
  {
   "cell_type": "markdown",
   "metadata": {},
   "source": [
    "#### Part (a)"
   ]
  },
  {
   "cell_type": "code",
   "execution_count": 4,
   "metadata": {},
   "outputs": [
    {
     "data": {
      "text/plain": [
       "539593"
      ]
     },
     "execution_count": 4,
     "metadata": {},
     "output_type": "execute_result"
    }
   ],
   "source": [
    "len(np.unique(nparr[:, 0]))"
   ]
  },
  {
   "cell_type": "markdown",
   "metadata": {},
   "source": [
    "#### Part (b)"
   ]
  },
  {
   "cell_type": "code",
   "execution_count": 27,
   "metadata": {},
   "outputs": [
    {
     "data": {
      "text/plain": [
       "539593"
      ]
     },
     "execution_count": 27,
     "metadata": {},
     "output_type": "execute_result"
    }
   ],
   "source": [
    "len(np.unique(nparr[:, 1]))"
   ]
  },
  {
   "cell_type": "markdown",
   "metadata": {},
   "source": [
    "#### Part (c)"
   ]
  },
  {
   "cell_type": "code",
   "execution_count": 26,
   "metadata": {},
   "outputs": [
    {
     "name": "stdout",
     "output_type": "stream",
     "text": [
      "All years: 1164836\n",
      "2003: 110556\n",
      "2004: 121374\n",
      "2005: 172664\n",
      "2006: 185840\n",
      "2007: 196151\n",
      "2008: 199288\n",
      "2009: 178959\n",
      "2010: 4\n"
     ]
    }
   ],
   "source": [
    "print(f\"All years: {len(np.unique(nparr[:, 4]))}\")\n",
    "\n",
    "years = [2003, 2004, 2005, 2006, 2007, 2008, 2009, 2010]\n",
    "\n",
    "for year in years:\n",
    "    arr = np.where(nparr[:, -1] == year)\n",
    "    # print(nparr[arr][:, 4])\n",
    "    num = len(np.unique(nparr[arr][:, 4]))\n",
    "    print(f\"{year}: {num}\")\n"
   ]
  },
  {
   "cell_type": "markdown",
   "metadata": {},
   "source": [
    "#### part (d)"
   ]
  },
  {
   "cell_type": "code",
   "execution_count": 49,
   "metadata": {},
   "outputs": [],
   "source": [
    "unique_crimes = np.unique(nparr[:, 4])\n",
    "\n",
    "unique_vals, counts = np.unique(nparr[:, 4], return_counts=True)\n",
    "\n",
    "sorted_indices = np.argsort(-counts)\n",
    "\n",
    "sorted_unique_vals = unique_vals[sorted_indices]\n",
    "sorted_counts = counts[sorted_indices]\n",
    "\n",
    "result = np.column_stack((sorted_unique_vals, sorted_counts))"
   ]
  },
  {
   "cell_type": "code",
   "execution_count": 48,
   "metadata": {},
   "outputs": [
    {
     "name": "stdout",
     "output_type": "stream",
     "text": [
      "[[27849 156 66023.0]\n",
      " [876159 102 12072.0]\n",
      " [445040 77 66023.0]\n",
      " [23526 60 75017.0]\n",
      " [60815 60 54048.0]\n",
      " [212285 57 37067.0]\n",
      " [754187 56 95032.0]\n",
      " [539385 52 66023.0]\n",
      " [23610 51 78005.0]\n",
      " [453024 46 66023.0]]\n"
     ]
    }
   ],
   "source": [
    "muns = np.zeros((10, 1))\n",
    "\n",
    "count = 0\n",
    "\n",
    "for i in result[:10]:\n",
    "    idx = np.where(nparr[:, 4] == i[0])[0][0]\n",
    "\n",
    "    muns[count] = nparr[idx][10]\n",
    "    count += 1\n",
    "\n",
    "print(np.column_stack((sorted_unique_vals[:10], sorted_counts[:10], muns)))"
   ]
  }
 ],
 "metadata": {
  "kernelspec": {
   "display_name": "6373pset4",
   "language": "python",
   "name": "python3"
  },
  "language_info": {
   "codemirror_mode": {
    "name": "ipython",
    "version": 3
   },
   "file_extension": ".py",
   "mimetype": "text/x-python",
   "name": "python",
   "nbconvert_exporter": "python",
   "pygments_lexer": "ipython3",
   "version": "3.12.9"
  }
 },
 "nbformat": 4,
 "nbformat_minor": 2
}
